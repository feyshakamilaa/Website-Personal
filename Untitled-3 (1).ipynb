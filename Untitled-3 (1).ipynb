{
 "cells": [
  {
   "cell_type": "markdown",
   "metadata": {},
   "source": [
    "## Apa itu python?\n",
    "\n",
    "Python adalah bahasa pemrograman tingkat tinggi yang serbaguna, mudah dipelajari, dan populer. Beberapa fungsi utama Python adalah untuk pengembangan web, analisis data, kecerdasan buatan, pengembangan permainan, pengembangan aplikasi desktop, dan pemrograman jaringan. Python diciptakan oleh programmer asal Belanda, Guido van Rossum, pada tahun 1991."
   ]
  },
  {
   "cell_type": "code",
   "execution_count": 109,
   "metadata": {},
   "outputs": [
    {
     "name": "stdout",
     "output_type": "stream",
     "text": [
      "Hello, World!\n",
      "Hello, World!\n"
     ]
    }
   ],
   "source": [
    "print(\"Hello, World!\") #code ini digunakan untuk print\n",
    "print(f\"Hello, World!\") #ini juga untuk print"
   ]
  },
  {
   "cell_type": "markdown",
   "metadata": {},
   "source": [
    "### Cara penulisan variabel\n",
    "\n",
    "Penulisan variabel dalam Python memiliki beberapa aturan penting:   \n",
    "1. Nama variabel hanya boleh mengandung huruf, angka, dan underscore (_), tetapi tidak boleh diawali dengan angka. \n",
    "2. Variabel juga tidak boleh menggunakan kata kunci bawaan Python seperti if, for, atau class. \n",
    "3. Python bersifat case-sensitive, sehingga umur berbeda dengan Umur. \n",
    "4. Gunakan nama variabel yang deskriptif dan jelas, mengikuti gaya penulisan snake_case sesuai standar PEP 8. \n",
    "5. Karakter spesial seperti @, #, atau spasi tidak diperbolehkan, dan meskipun panjang nama variabel tidak dibatasi, sebaiknya tetap ringkas.  \n",
    "  \n",
    "Contohnya: "
   ]
  },
  {
   "cell_type": "code",
   "execution_count": 5,
   "metadata": {},
   "outputs": [
    {
     "name": "stdout",
     "output_type": "stream",
     "text": [
      "Feysha\n",
      "5\n",
      "True\n",
      "Feysha memiliki permen sebanyak 5 dan Feysha adalah seorang mahasiswa adalah True\n"
     ]
    }
   ],
   "source": [
    "# Contoh penulisan variabel\n",
    "nama_depan = \"Feysha\"\n",
    "jumlah = 5\n",
    "mahasiswa = True\n",
    "keterangan = \"mahasiswa\"\n",
    "\n",
    "# Menampilkan nilai variabel\n",
    "print(nama_depan)\n",
    "print(jumlah)\n",
    "print(mahasiswa)\n",
    "\n",
    "#Multi-statement variabel (memungkinkan kita untuk mendeklarasikan beberapa variabel dalam satu baris)\n",
    "print(nama_depan, \"memiliki permen sebanyak\", jumlah, \"dan\", nama_depan, \"adalah seorang\", keterangan, \"adalah\", mahasiswa)"
   ]
  },
  {
   "cell_type": "markdown",
   "metadata": {},
   "source": [
    "## 1. Tipe Data Python  \n",
    "Python memiliki berbagai tipe data dasar, antara lain:  \r\n",
    "\r\n",
    "1. **Integer**  \r\n",
    "   Bilangan bulat, seperti `1`, `10`, `-5`.\r\n",
    "\r\n",
    "2. **Float**  \r\n",
    "   Bilangan desimal, seperti `3.14`, `-2.5`, `0.99`.\r\n",
    "\r\n",
    "3. **String**  \r\n",
    "   Teks atau karakter, seperti `\"Hello\"`, `\"Python\"`, `\"123\"`.\r\n",
    "\r\n",
    "4. **Boolean**  \r\n",
    "   Nilai logika yang hanya dapat berupa `True` atau `False`.\r\n"
   ]
  },
  {
   "cell_type": "code",
   "execution_count": 113,
   "metadata": {},
   "outputs": [
    {
     "name": "stdout",
     "output_type": "stream",
     "text": [
      "10 <class 'int'>\n",
      "3.14 <class 'float'>\n",
      "Halo, dunia! <class 'str'>\n",
      "True <class 'bool'>\n"
     ]
    }
   ],
   "source": [
    "# Contoh tipe data\n",
    "angka_bulat = 10           # Integer /N\n",
    "angka_desimal = 3.14       # Float\n",
    "teks = \"Halo, dunia!\"      # String\n",
    "logika = True              # Boolean\n",
    "\n",
    "#Menampilkan isi atau nilai dan jenis data variabel\n",
    "print(angka_bulat, type(angka_bulat))\n",
    "print(angka_desimal, type(angka_desimal))\n",
    "print(teks, type(teks))\n",
    "print(logika, type(logika))"
   ]
  },
  {
   "cell_type": "markdown",
   "metadata": {},
   "source": [
    "### Input dari Pengguna  \n",
    "Input dari pengguna adalah proses di mana program menerima data yang dimasukkan oleh pengguna selama eksekusi. Python menyediakan fungsi bawaan input() untuk menangkap input tersebut dalam bentuk string. Berikut adalah contohnya:"
   ]
  },
  {
   "cell_type": "code",
   "execution_count": 7,
   "metadata": {},
   "outputs": [
    {
     "name": "stdin",
     "output_type": "stream",
     "text": [
      "Masukkan umur Anda:  7\n"
     ]
    },
    {
     "name": "stdout",
     "output_type": "stream",
     "text": [
      "Umur Anda adalah: 7\n"
     ]
    }
   ],
   "source": [
    "umur = int(input(\"Masukkan umur Anda: \"))\n",
    "print(\"Umur Anda adalah:\", umur)"
   ]
  },
  {
   "cell_type": "markdown",
   "metadata": {},
   "source": [
    "## 2. **Operator Dasar**\n",
    "\n",
    "-> simbol-simbol yang digunakan untuk melakukan operasi tertentu. Jenis-jenis operator :\n",
    "\n",
    "\r\n",
    "### 1. **Operator Aritmatika**\r\n",
    "- **Penjumlahan (`+`)**, ex: `1 + 3 = 4`\r\n",
    "- **Pengurangan (`-`)**, ex: `4 - 1 = 3`\r\n",
    "- **Perkalian (`*`)**, ex: `2 * 4 = 8`\r\n",
    "- **Pembagian (`/`)**, ex: `10 / 5 = 2`\r\n",
    "- **Sisa Bagi (`%`)**, ex: `11 % 2 = 1`\r\n",
    "- **Pangkat (`**`)**, ex: `8 ** 2 = 64`\r\n",
    "- **Pembagian Floor (`//`)**, ex: `10 // 3 #= 3`\r\n",
    "\r\n",
    "## 2. **Operator Pembanding/Relasi**\r\n",
    "- **Sama dengan (`==`)**, ex: `1 == 1`\r\n",
    "- **Tidak sama dengan (`!=`)**, ex: `2 != 2`\r\n",
    "- **Tidak sama dengan (`<>`)**, ex: `2 <> 2`\r\n",
    "- **Lebih besar dari (`>`)**, ex: `5 > 3`\r\n",
    "- **Lebih kecil dari (`<`)**, ex: `3 < 5`\r\n",
    "- **Lebih besar atau sama dengan (`>=`)**, ex: `5 >= 3`\r\n",
    "- **Lebih kecil atau sama dengan (`<=`)**#, ex: `3 <= 5`\r\n",
    "\r\n",
    "## 3. **Operator Penugasan**\r\n",
    "- **Sama dengan (`=`)**, ex: `a = 1`\r\n",
    "- **Tambah sama dengan (`+=`)**, ex: `a += 2`\r\n",
    "- **Kurang sama dengan (`-=`)**, ex: `a -= 2`\r\n",
    "- **Kali sama dengan (`*=`)**, ex: `a *= 2`\r\n",
    "- **Bagi sama dengan (`/=`)**, ex: `a /= 4`\r\n",
    "- **Sisa bagi sama dengan (`%=`)**, ex: `a %= 3`\r\n",
    "- **Pangkat sama dengan (`**=`)**, ex: `a **= 3`\r\n",
    "- **Pembagian bulat sama dengan #(`//=`)**, ex: `a //= 3`\r\n",
    "\r\n",
    "## 4. **Operator Logika**\r\n",
    "- **and** -> Mengembalikan `True` jika dua statement sama-sama benar, ex: `True and True`\r\n",
    "- **or** -> Mengembalikan `True` jika salah satu statement bernilai benar, ex: `2 > 5 or 1 < 3`\r\n",
    "- **not** -> Menegaskan hasil. `True` menjadi `False` dan sebaliknya, ex: `not(1 > 5)`\r\n",
    " 3 = 3."
   ]
  },
  {
   "cell_type": "code",
   "execution_count": 117,
   "metadata": {},
   "outputs": [
    {
     "name": "stdout",
     "output_type": "stream",
     "text": [
      "10 + 3 = 13\n",
      "10 - 3 = 7\n",
      "10 * 3 = 30\n",
      "10 / 3 = 3.3333333333333335\n",
      "10 % 3 = 1\n",
      "10 ** 3 = 1000\n",
      "10 // 3 = 3\n"
     ]
    }
   ],
   "source": [
    "## Contoh Aritmatika\n",
    "a, b = 10, 3\n",
    "\n",
    "print(a, '+', b, '=', a + b)\n",
    "print(a, '-', b, '=', a - b)\n",
    "print(a, '*', b, '=', a * b)\n",
    "print(a, '/', b, '=', a / b)\n",
    "print(a, '%', b, '=', a % b)\n",
    "print(a, '**', b, '=', a ** b)\n",
    "print(a, '//', b, '=', a //b)"
   ]
  },
  {
   "cell_type": "code",
   "execution_count": 118,
   "metadata": {},
   "outputs": [
    {
     "name": "stdout",
     "output_type": "stream",
     "text": [
      "5 > 10 = False\n",
      "5 < 10 = True\n",
      "5 == 10 = False\n",
      "5 != 10 = True\n",
      "5 >= 10 = False\n",
      "5 <= 10 = True\n"
     ]
    }
   ],
   "source": [
    "## Contoh Pembanding/Relasi\n",
    "a, b = 5, 10\n",
    "\n",
    "print(a, '>', b, '=', a > b)\n",
    "print(a, '<', b, '=', a < b)\n",
    "print(a, '==', b, '=', a == b)\n",
    "print(a, '!=', b, '=', a != b)\n",
    "print(a, '>=', b, '=', a >= b)\n",
    "print(a, '<=', b, '=', a <= b)"
   ]
  },
  {
   "cell_type": "code",
   "execution_count": 119,
   "metadata": {},
   "outputs": [
    {
     "name": "stdout",
     "output_type": "stream",
     "text": [
      "a = 10 ->  10\n",
      "a += 5 ->  15\n",
      "a -= 3 ->  12\n",
      "a *= 6 ->  72\n",
      "a /= 8 ->  9.0\n",
      "a %= 9 ->  0\n",
      "a //= 6 ->  0\n",
      "a **= 1 ->  0\n"
     ]
    }
   ],
   "source": [
    "## Contoh Penugasan\n",
    "# penugasan pertama\n",
    "a = 10\n",
    "print('a = 10 -> ', a)\n",
    "\n",
    "a += 5\n",
    "print('a += 5 -> ', a)\n",
    "\n",
    "a -= 3\n",
    "print('a -= 3 -> ', a)\n",
    "\n",
    "a *= 6\n",
    "print('a *= 6 -> ', a)\n",
    "\n",
    "a /= 8\n",
    "print('a /= 8 -> ', a)\n",
    "\n",
    "# karena a jadi float, kita ubah lagi menjadi integer\n",
    "a = int(a)\n",
    "\n",
    "a %= 9\n",
    "print('a %= 9 -> ', a)\n",
    "\n",
    "a //= 6\n",
    "print('a //= 6 -> ', a)\n",
    "\n",
    "a **= 1\n",
    "print('a **= 1 -> ', a)"
   ]
  },
  {
   "cell_type": "markdown",
   "metadata": {},
   "source": [
    "## 3. **Percabangan If Else**\n",
    "### Pengertian\n",
    "Percabangan `if` dan `else` adalah struktur kontrol dalam Python yang memungkinkan program untuk membuat keputusan berdasarkan kondisi tertentu. Jika kondisi pada pernyataan `if` bernilai `True`, maka blok kode setelah `if` akan dieksekusi. Jika kondisi tersebut bernilai `False`, maka blok kode dalam `else` yang akan dijalankan.\n",
    "#### Struktur Dasar\n",
    "```python\n",
    "if kondisi:\n",
    "    # kode yang dijalankan jika kondisi True\n",
    "elif kondisi:\n",
    "    # kode yang dijalankan jika kondisi if sebelumnya bernilai False.  \n",
    "else:\n",
    "    # kode yang dijalankan jika kondisi Falseisi False\r\n"
   ]
  },
  {
   "cell_type": "code",
   "execution_count": 121,
   "metadata": {},
   "outputs": [
    {
     "name": "stdout",
     "output_type": "stream",
     "text": [
      "x sama dengan 7\n"
     ]
    }
   ],
   "source": [
    "x = 7\n",
    "\n",
    "# Program pertama-tama akan mengecek apakah x lebih besar dari 10.\n",
    "if x > 10:\n",
    "    print(\"x lebih besar dari 10\")\n",
    "# Jika kondisi tersebut False, maka elif akan memeriksa apakah x sama dengan 7.\n",
    "elif x == 7:\n",
    "    print(\"x sama dengan 7\")\n",
    "# Karena x = 7, maka output yang dihasilkan adalah \"x sama dengan 7\".\n",
    "else:\n",
    "    print(\"x lebih kecil dari 7\")"
   ]
  },
  {
   "cell_type": "markdown",
   "metadata": {},
   "source": [
    "### **Percabangan Tertanam (Nested If)**\n",
    "`if` dapat juga digunakan di dalam `if` lainnya, yang dikenal dengan percabangan tertanam (nested if).  \n",
    "Contohnya:"
   ]
  },
  {
   "cell_type": "code",
   "execution_count": 123,
   "metadata": {},
   "outputs": [
    {
     "name": "stdout",
     "output_type": "stream",
     "text": [
      "x lebih besar dari 5 tetapi lebih kecil dari 10\n"
     ]
    }
   ],
   "source": [
    "x = 8\n",
    "\n",
    "# Program pertama-tama memeriksa apakah x lebih besar dari 5.\n",
    "if x > 5:\n",
    "# Kemudian, di dalam blok if pertama, ada lagi pengecekan apakah x lebih kecil dari 10.\n",
    "    if x < 10:\n",
    "        print(\"x lebih besar dari 5 tetapi lebih kecil dari 10\")\n",
    "# Karena x = 8, maka program akan menampilkan output \"x lebih besar dari 5 tetapi lebih kecil dari 10\".\n",
    "    else:\n",
    "        print(\"x lebih besar atau sama dengan 10\")\n",
    "else:\n",
    "    print(\"x lebih kecil atau sama dengan 5\")"
   ]
  },
  {
   "cell_type": "markdown",
   "metadata": {},
   "source": [
    "### **Penjelasan Percabangan If Else**\r\n",
    "\r\n",
    "#### 1. **if**\r\n",
    "- Digunakan untuk memeriksa apakah kondisi bernilai **True** dan menjalankan kode yang sesuai jika kondisi tersebut **benar**.\r\n",
    "  \r\n",
    "#### 2. **elif**\r\n",
    "- Digunakan untuk memeriksa kondisi lain setelah kondisi **if** pertama gagal (bernilai **False**).\r\n",
    "  \r\n",
    "#### 3. **else**\r\n",
    "- Digunakan sebagai kondisi **default** jika semua kondisi sebelumnya bernilai **False**.\r\n",
    "  \r\n",
    "#### 4. **Nested if**\r\n",
    "- Memungkinkan penggunaan **if** di dalam **if** lainnya untuk pengecekan kondisi lbih lanjut.\r\n",
    "bih lanjut.\r\n"
   ]
  },
  {
   "cell_type": "markdown",
   "metadata": {},
   "source": [
    "## 4. **Dasar Perulangan (Looping)**\r\n",
    "\r\n",
    "Perulangan (Looping) adalah teknik dalam pemrograman yang memungkinkan eksekusi berulang terhadap sebuah blok kode sesuai dengan kondisi tertentu. Di Python, terdapat dua jenis perulangan yang umum digunakan, yaitu **`for`** dan **`while`**.\r\n",
    "\r\n",
    "### 1. **Perulangan For**\r\n",
    "Perulangan `for` digunakan untuk mengulang aksi dalam sebuah urutan (seperti daftar, string, atau rentang angka).\r\n",
    "\r\n",
    "#### Struktur dasar:\r\n",
    "```python\r\n",
    "for item in urutan:\r\n",
    "    # kode yang dijalankan\r\n",
    "ijalankan\r\n"
   ]
  },
  {
   "cell_type": "code",
   "execution_count": 162,
   "metadata": {},
   "outputs": [
    {
     "name": "stdout",
     "output_type": "stream",
     "text": [
      "0\n",
      "1\n",
      "2\n",
      "3\n",
      "4\n"
     ]
    }
   ],
   "source": [
    "for i in range(5):  # range(5) menghasilkan angka mulai dari 0 hingga 4.\n",
    "    print(i) # Program ini akan mencetak angka 0 hingga 4 satu per satu."
   ]
  },
  {
   "cell_type": "markdown",
   "metadata": {},
   "source": [
    "### 2. **Perulangan While**\n",
    "Perulangan `while` digunakan untuk mengulang aksi selama kondisi tertentu bernilai True."
   ]
  },
  {
   "cell_type": "code",
   "execution_count": 179,
   "metadata": {},
   "outputs": [
    {
     "name": "stdout",
     "output_type": "stream",
     "text": [
      "0\n",
      "1\n",
      "2\n",
      "3\n",
      "4\n"
     ]
    }
   ],
   "source": [
    "i = 0\n",
    "while i < 5: # Selama nilai i kurang dari 5, kondisi dalam while bernilai True, sehingga blok kode di dalamnya dijalankan.\n",
    "    print(i)\n",
    "    i += 1 # Nilai i akan bertambah 1 setiap kali perulangan."
   ]
  },
  {
   "cell_type": "markdown",
   "metadata": {},
   "source": [
    "### 3. **Perulangan dengan else**\n",
    "Baik perulangan `for` maupun `while` dapat dilengkapi dengan bagian `else`. Bagian `else` ini akan dieksekusi jika perulangan selesai tanpa adanya perintah break. Contohnya:"
   ]
  },
  {
   "cell_type": "code",
   "execution_count": 189,
   "metadata": {},
   "outputs": [
    {
     "name": "stdout",
     "output_type": "stream",
     "text": [
      "0\n",
      "1\n",
      "2\n",
      "3\n",
      "4\n",
      "Perulangan selesai\n"
     ]
    }
   ],
   "source": [
    "for i in range(5):\n",
    "    print(i)\n",
    "else:\n",
    "    print(\"Perulangan selesai\") # Setelah perulangan selesai, Python akan mencetak \"Perulangan selesai\"."
   ]
  },
  {
   "cell_type": "markdown",
   "metadata": {},
   "source": [
    "### 4. **Menghentikan Perulangan dengan Break**\n",
    "Perintah `break` digunakan untuk menghentikan perulangan sebelum kondisi selesai. Contohnya:"
   ]
  },
  {
   "cell_type": "code",
   "execution_count": 195,
   "metadata": {},
   "outputs": [
    {
     "name": "stdout",
     "output_type": "stream",
     "text": [
      "0\n",
      "1\n",
      "2\n"
     ]
    }
   ],
   "source": [
    "for i in range(5):\n",
    "    if i == 3:\n",
    "        break # Program akan berhenti ketika nilai i mencapai 3.\n",
    "    print(i)"
   ]
  },
  {
   "cell_type": "markdown",
   "metadata": {},
   "source": [
    "### 5. **Melanjutkan Perulangan dengan Continue**\n",
    "Perintah `continue` digunakan untuk melewatkan satu iterasi dalam perulangan dan langsung melanjutkan ke iterasi berikutnya.. Contohnya:"
   ]
  },
  {
   "cell_type": "code",
   "execution_count": 199,
   "metadata": {},
   "outputs": [
    {
     "name": "stdout",
     "output_type": "stream",
     "text": [
      "0\n",
      "1\n",
      "2\n",
      "4\n"
     ]
    }
   ],
   "source": [
    "for i in range(5):\n",
    "    if i == 3:\n",
    "        continue # Ketika i bernilai 3, perintah continue akan melewati pencetakan nilai 3 dan langsung melanjutkan ke iterasi berikutnya.\n",
    "    print(i)"
   ]
  },
  {
   "cell_type": "markdown",
   "metadata": {},
   "source": [
    "### Kesimpulan\n",
    "\n",
    "- **`for`**: Digunakan untuk perulangan dengan jumlah iterasi yang sudah diketahui atau berbasis urutan.\n",
    "- **`while`**: Digunakan untuk perulangan yang bergantung pada kondisi tertentu yang bisa terus berulang selama kondisi tersebut **True**.\n",
    "- **`else`**: Menyediakan blok kode yang dieksekusi setelah perulangan selesai jika tidak dihentikan oleh **`break`**.\n",
    "- **`break`**: Menghentikan perulangan secara paksa.\n",
    "- **`continue`**: Melewatkan iterasi yang sedang berjalan dan melanjutkan ke iterasi berikutnya."
   ]
  }
 ],
 "metadata": {
  "kernelspec": {
   "display_name": "FEYSHA",
   "language": "python",
   "name": "feysha"
  },
  "language_info": {
   "codemirror_mode": {
    "name": "ipython",
    "version": 3
   },
   "file_extension": ".py",
   "mimetype": "text/x-python",
   "name": "python",
   "nbconvert_exporter": "python",
   "pygments_lexer": "ipython3",
   "version": "3.7.16"
  }
 },
 "nbformat": 4,
 "nbformat_minor": 4
}
