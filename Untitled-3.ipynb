{
 "cells": [
  {
   "cell_type": "markdown",
   "metadata": {},
   "source": [
    "Python adalah bahasa pemrograman tingkat tinggi yang serbaguna, mudah dipelajari, dan populer. Beberapa fungsi utama Python adalah untuk pengembangan web, analisis data, kecerdasan buatan, pengembangan permainan, pengembangan aplikasi desktop, dan pemrograman jaringan. Python diciptakan oleh programmer asal Belanda, Guido van Rossum, pada tahun 1991."
   ]
  },
  {
   "cell_type": "code",
   "execution_count": 7,
   "metadata": {},
   "outputs": [
    {
     "name": "stdout",
     "output_type": "stream",
     "text": [
      "Hello, World!\n",
      "Hello, World!\n"
     ]
    }
   ],
   "source": [
    "print(\"Hello, World!\") #code ini digunakan untuk print\n",
    "print(f\"Hello, World!\") #ini juga untuk print"
   ]
  },
  {
   "cell_type": "markdown",
   "metadata": {},
   "source": [
    "Penulisan variabel dalam Python memiliki beberapa aturan penting:   \n",
    "1. Nama variabel hanya boleh mengandung huruf, angka, dan underscore (_), tetapi tidak boleh diawali dengan angka. \n",
    "2. Variabel juga tidak boleh menggunakan kata kunci bawaan Python seperti if, for, atau class. \n",
    "3. Python bersifat case-sensitive, sehingga umur berbeda dengan Umur. \n",
    "4. Gunakan nama variabel yang deskriptif dan jelas, mengikuti gaya penulisan snake_case sesuai standar PEP 8. \n",
    "5. Karakter spesial seperti @, #, atau spasi tidak diperbolehkan, dan meskipun panjang nama variabel tidak dibatasi, sebaiknya tetap ringkas.  \n",
    "  \n",
    "Contohnya: "
   ]
  },
  {
   "cell_type": "code",
   "execution_count": 22,
   "metadata": {},
   "outputs": [
    {
     "name": "stdout",
     "output_type": "stream",
     "text": [
      "Feysha\n",
      "5\n",
      "True\n",
      "Feysha memiliki permen sebanyak 5 dan Feysha adalah seorang True\n"
     ]
    }
   ],
   "source": [
    "# Contoh penulisan variabel\n",
    "nama_depan = \"Feysha\"\n",
    "jumlah = 5\n",
    "mahasiswa = True\n",
    "keterangan = mahasiswa\n",
    "\n",
    "# Menampilkan nilai variabel\n",
    "print(nama_depan)\n",
    "print(jumlah)\n",
    "print(mahasiswa)\n",
    "\n",
    "#Multi-statement variabel (memungkinkan kita untuk mendeklarasikan beberapa variabel dalam satu baris)\n",
    "print(nama_depan, \"memiliki permen sebanyak\", jumlah_barang, \"dan\", nama_depan, \"adalah seorang\", mahasiswa)"
   ]
  },
  {
   "cell_type": "markdown",
   "metadata": {},
   "source": [
    "## 1. Tipe Data Python  \n",
    "    Python memiliki berbagai tipe data dasar, antara lain:  \n",
    "    Integer yaitu bilangan bulat seperti 1, 10.  \n",
    "    Float yaitu bilangan desimal seperti 3.14.  \n",
    "    String yaitu teks seperti \"Hello\".  \n",
    "    Boolean yaitu nilai logika True atau False.  \n",
    "    "
   ]
  },
  {
   "cell_type": "code",
   "execution_count": null,
   "metadata": {},
   "outputs": [
    {
     "name": "stdout",
     "output_type": "stream",
     "text": [
      "10 <class 'int'>\n",
      "3.14 <class 'float'>\n",
      "Halo, dunia! <class 'str'>\n",
      "True <class 'bool'>\n"
     ]
    }
   ],
   "source": [
    "# Contoh tipe data\n",
    "angka_bulat = 10           # Integer /N\n",
    "angka_desimal = 3.14       # Float\n",
    "teks = \"Halo, dunia!\"      # String\n",
    "logika = True              # Boolean\n",
    "\n",
    "#Menampilkan isi atau nilai dan jenis data variabel\n",
    "print(angka_bulat, type(angka_bulat))\n",
    "print(angka_desimal, type(angka_desimal))\n",
    "print(teks, type(teks))\n",
    "print(logika, type(logika))"
   ]
  },
  {
   "cell_type": "markdown",
   "metadata": {},
   "source": [
    "#### Input dari Pengguna  \n",
    "Input dari pengguna adalah proses di mana program menerima data yang dimasukkan oleh pengguna selama eksekusi. Python menyediakan fungsi bawaan input() untuk menangkap input tersebut dalam bentuk string. Berikut adalah contohnya:"
   ]
  },
  {
   "cell_type": "code",
   "execution_count": 6,
   "metadata": {},
   "outputs": [
    {
     "name": "stdout",
     "output_type": "stream",
     "text": [
      "Mengitung Luas Segitiga\n",
      "Luas segitiga adalah: 10.0\n"
     ]
    }
   ],
   "source": [
    "# Program sederhana untuk menghitung luas segitiga\n",
    "print(\"Mengitung Luas Segitiga\")\n",
    "\n",
    "#Karena input() selalu mengembalikan string, kita perlu mengonversinya ke tipe data lain jika diperlukan. \n",
    "#Contoh code untuk menggunakan input. \n",
    "alas = float(input(\"Masukkan panjang alas: \"))\n",
    "tinggi = float(input(\"Masukkan tinggi: \"))\n",
    "luas = 0.5 * alas * tinggi\n",
    "print(f\"Luas segitiga adalah: {luas}\")"
   ]
  },
  {
   "cell_type": "code",
   "execution_count": null,
   "metadata": {},
   "outputs": [],
   "source": []
  }
 ],
 "metadata": {
  "kernelspec": {
   "display_name": "FEYSHA",
   "language": "python",
   "name": "feysha"
  },
  "language_info": {
   "codemirror_mode": {
    "name": "ipython",
    "version": 3
   },
   "file_extension": ".py",
   "mimetype": "text/x-python",
   "name": "python",
   "nbconvert_exporter": "python",
   "pygments_lexer": "ipython3",
   "version": "3.7.16"
  }
 },
 "nbformat": 4,
 "nbformat_minor": 2
}
